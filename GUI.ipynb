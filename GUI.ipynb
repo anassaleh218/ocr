{
 "cells": [
  {
   "cell_type": "code",
   "execution_count": 1,
   "metadata": {},
   "outputs": [],
   "source": [
    "import os\n",
    "import PIL\n",
    "import cv2\n",
    "import glob\n",
    "import numpy as np\n",
    "from tkinter import *\n",
    "from PIL import Image, ImageDraw, ImageGrab, ImageTk\n",
    "import joblib as jb\n",
    "import pandas as pd\n",
    "from sklearn.ensemble import RandomForestClassifier"
   ]
  },
  {
   "cell_type": "code",
   "execution_count": 2,
   "metadata": {},
   "outputs": [],
   "source": [
    "char_map = pd.read_csv('D:\\\\Studying\\\\FCAI\\\\Level 3\\\\1st Semester\\\\AI - Artificial Intellegince\\\\Project\\\\emnist-balanced-mapping.txt' , delimiter=' ', header=None , index_col=0 )\n",
    "mapping = {}\n",
    "for index, label in enumerate(char_map.iloc[:, 0]):\n",
    "    mapping[index] = chr(label)\n"
   ]
  },
  {
   "cell_type": "markdown",
   "metadata": {},
   "source": [
    "# Load Model\n"
   ]
  },
  {
   "cell_type": "code",
   "execution_count": 3,
   "metadata": {},
   "outputs": [
    {
     "name": "stdout",
     "output_type": "stream",
     "text": [
      "done\n"
     ]
    }
   ],
   "source": [
    "model = jb.load(\"C:\\\\Users\\\\DELL\\\\Downloads\\\\ai project\\\\final_ai.sav\")\n",
    "if(model):\n",
    "    print(\"done\")\n",
    "else:\n",
    "    print(\"F\")"
   ]
  },
  {
   "cell_type": "markdown",
   "metadata": {},
   "source": [
    "# Def Helping Functions"
   ]
  },
  {
   "cell_type": "code",
   "execution_count": 4,
   "metadata": {},
   "outputs": [],
   "source": [
    "def resize_img(cimage):\n",
    "    BW = cv2.cvtColor(cimage , cv2.COLOR_BGR2GRAY)\n",
    "    resized_img = cv2.resize(BW , (28,28) , interpolation = cv2.INTER_AREA)\n",
    "    resized_img=resized_img.reshape(-1)\n",
    "    return resized_img"
   ]
  },
  {
   "cell_type": "code",
   "execution_count": 5,
   "metadata": {},
   "outputs": [],
   "source": [
    "def activate_paint(e):\n",
    "    global lastx, lasty\n",
    "    cv.bind('<B1-Motion>', paint)\n",
    "    lastx, lasty = e.x, e.y\n",
    "\n",
    "\n",
    "def paint(e):\n",
    "    global lastx, lasty\n",
    "    x, y = e.x, e.y\n",
    "    cv.create_line((lastx, lasty, x, y), width=22,fill = 'white')\n",
    "    #  --- PIL\n",
    "    draw.line((lastx, lasty, x, y), fill='white', width=22)\n",
    "    lastx, lasty = x, y\n",
    "\n",
    "def clear():\n",
    "    global cv,image1,draw\n",
    "    \n",
    "    image1 = PIL.Image.new('RGB', (168, 168), 'black')\n",
    "    draw = ImageDraw.Draw(image1)\n",
    "    cv.delete(\"all\")"
   ]
  },
  {
   "cell_type": "code",
   "execution_count": 6,
   "metadata": {},
   "outputs": [],
   "source": [
    "def recoginze():\n",
    "    global lb, pred_text, cv, image1, draw\n",
    "\n",
    "    image1.save('image.png')\n",
    "  \n",
    "    # read\n",
    "    im = cv2.imread('image.png')\n",
    "    final = resize_img(im)\n",
    "    final = final.reshape(-1)\n",
    "    y_pred = model.predict([final])\n",
    "\n",
    "    # Check if the predicted label is in the mapping dictionary\n",
    "    if y_pred[0] in mapping:\n",
    "        lb.config(text=\"Letter: \" + mapping[y_pred[0]])\n",
    "    else:\n",
    "        lb.config(text=\"Letter: Not in mapping\")  # Handle the case when the key is not found\n"
   ]
  },
  {
   "cell_type": "markdown",
   "metadata": {},
   "source": [
    "# Main Window"
   ]
  },
  {
   "cell_type": "code",
   "execution_count": null,
   "metadata": {},
   "outputs": [],
   "source": [
    "root = Tk()\n",
    "\n",
    "lastx, lasty = None, None\n",
    "image_number = 0\n",
    "\n",
    "cv = Canvas(root, width=168, height=168, bg='black')\n",
    "# --- PIL\n",
    "image1 = PIL.Image.new('RGB', (168, 168), 'black')\n",
    "draw = ImageDraw.Draw(image1)\n",
    "\n",
    "cv.bind('<1>', activate_paint)\n",
    "cv.pack(expand=YES, fill=BOTH)\n",
    "\n",
    "btn_save = Button(text=\"Pridect\", command=recoginze)\n",
    "btn_save.pack()\n",
    "\n",
    "btn_clr = Button(text=\"Clear\", command=clear)\n",
    "btn_clr.pack()\n",
    "\n",
    "lb = Label(text = \"Letter: \") \n",
    "lb.pack()\n",
    "\n",
    "\n",
    "root.mainloop()"
   ]
  },
  {
   "cell_type": "code",
   "execution_count": null,
   "metadata": {},
   "outputs": [],
   "source": []
  },
  {
   "cell_type": "code",
   "execution_count": null,
   "metadata": {},
   "outputs": [],
   "source": []
  },
  {
   "cell_type": "code",
   "execution_count": null,
   "metadata": {},
   "outputs": [],
   "source": []
  }
 ],
 "metadata": {
  "kernelspec": {
   "display_name": "Python 3 (ipykernel)",
   "language": "python",
   "name": "python3"
  },
  "language_info": {
   "codemirror_mode": {
    "name": "ipython",
    "version": 3
   },
   "file_extension": ".py",
   "mimetype": "text/x-python",
   "name": "python",
   "nbconvert_exporter": "python",
   "pygments_lexer": "ipython3",
   "version": "3.11.5"
  }
 },
 "nbformat": 4,
 "nbformat_minor": 4
}
